{
 "cells": [
  {
   "cell_type": "markdown",
   "id": "0425cd63",
   "metadata": {},
   "source": [
    "# Discrete-Time Clock Hands\n",
    "\n",
    "Total seconds in 12 hours: $60 \\cdot 60 \\cdot 12 = 43200$\n",
    "\n",
    "Define a unit _tick_ during which one second passes.  There are $60 \\cdot 60 \\cdot 12 = 43200$ ticks in 12 hours; so that is the number of distinct states of the clock face.\n",
    "\n",
    "Define three variables $s$, $m$, and $h$, which represent the position of the second, minute, and hour hand, respectively, measured in ticks, at time $t$ seconds.  Then:\n",
    "\n",
    "The hour hand makes one revolution of the clock face every 12 hours, so each second it moves a single tick:\n",
    "$h = t \\bmod 43200$.\n",
    "\n",
    "The minute hand makes 12 revolutions of the clock face every 12 hours:\n",
    "$m = 12 t \\bmod 43200$.\n",
    "\n",
    "Finally, the second hand whooshes around the clock face 60 times a minute:\n",
    "$s = 60 m = 720 t \\bmod 43200$.\n",
    "\n",
    "So, for a few examples,\n",
    " - at 12:00:00, $h = m = s = 0$.\n",
    " - at 12:00:01, $h = 1$, $m = 12$, and $s = 720$.\n",
    " - at 12:01:00, $h = 60$, $m = 720$, and $s = 0$.\n",
    " - at 1:05:05, $t = 3600 + 300 + 5 = 3905$, so $h = 3905$, $m = 3660$, and $s = 3600$.\n",
    "\n",
    "That should be enough to code for the solution.\n",
    "\n",
    "## Code!"
   ]
  },
  {
   "cell_type": "code",
   "execution_count": 37,
   "id": "83e8407f",
   "metadata": {},
   "outputs": [
    {
     "name": "stdout",
     "output_type": "stream",
     "text": [
      "Minimum angular separation in ticks: 181\n",
      "\n",
      "Hand states with separation of at most 300 ticks:\n",
      "\t00:00:00 is 0 0 0 0\n",
      "\t02:11:11 is 7871 8052 7920 181\n",
      "\t03:16:16 is 11776 11712 11520 256\n",
      "\t08:43:44 is 31424 31488 31680 256\n",
      "\t09:48:49 is 35329 35148 35280 181\n"
     ]
    }
   ],
   "source": [
    "TICKS = 43200\n",
    "\n",
    "class Hands:\n",
    "    \"\"\"Compute angles of clock hands in units of ticks (2pi / 60 / 60 / 12).\"\"\"\n",
    "    def __init__(self, seconds):\n",
    "        \"\"\"Time in seconds uniquely determines angle of each clock hand.\"\"\"\n",
    "        self.h = seconds % TICKS\n",
    "        self.m = (12 * seconds) % TICKS\n",
    "        self.s = (720 * seconds) % TICKS\n",
    "\n",
    "        # This computation of distance between hands is not right; it does not deal \n",
    "        # with cases where the correct difference spans the origin.  Fortunately,\n",
    "        # this does not affect the problem at hand (I hope).\n",
    "        self.d = int(max(self.h, self.m, self.s)\n",
    "                     - min(self.h, self.m, self.s))\n",
    "        \n",
    "    def __str__(self):\n",
    "        \"\"\"Dump state.\"\"\"\n",
    "        return '{0:d} {1:d} {2:d} {3:d}'.format(self.h, self.m, self.s, self.d)\n",
    "    \n",
    "    def clock(self):\n",
    "        \"\"\"Convert to HH:MM:SS format.\"\"\"\n",
    "        return '{0:02d}:{1:02d}:{2:02d}'.format(self.h // 3600, (self.h // 60) % 60, self.h % 60)\n",
    "\n",
    "# Find hand angles (hms values) for each clock state.\n",
    "hands = [Hands(t) for t in range(TICKS)]\n",
    "\n",
    "# Display the minimum value, excluding 12:00:00 which we already know to be zero.\n",
    "print('Minimum angular separation in ticks: {0:d}\\n'.format(min([tt.d for tt in hands[1:]])))\n",
    "\n",
    "# Display a few of the smallest values.\n",
    "MINDELTA = 300\n",
    "print('Hand states with separation of at most {0:d} ticks:'.format(MINDELTA))\n",
    "for tt in hands:\n",
    "    if MINDELTA >= tt.d:\n",
    "        print('\\t{0:s} is {1:s}'.format(tt.clock(), str(tt)))"
   ]
  },
  {
   "cell_type": "markdown",
   "id": "89eca99a",
   "metadata": {},
   "source": [
    "## Voila!\n",
    "\n",
    "The minimum angular separation of clock hands, of zero degrees, occurs at high noon.  But we knew that.\n",
    "\n",
    "The minimum nonzero angular separation happens at **2:11:11** and **9:48:49**, of $181 \\cdot 2\\pi / 43200 \\approx 0.026$ radians, or a skosh more than $1.5$ degrees.\n",
    "\n",
    "Runner-up is at **3:16:16** and **8:43:44** with the hands $2.133\\ldots$ degrees apart.\n",
    "\n",
    "## Footnote\n",
    "\n",
    "Yes, I cheated and wrote a program.  An analytic solution to the minimization problem would be *much* harder.  I think the approach would use a difference equation?  It would be fun to Go There some day, but not this day."
   ]
  }
 ],
 "metadata": {
  "kernelspec": {
   "display_name": "Python 3 (ipykernel)",
   "language": "python",
   "name": "python3"
  },
  "language_info": {
   "codemirror_mode": {
    "name": "ipython",
    "version": 3
   },
   "file_extension": ".py",
   "mimetype": "text/x-python",
   "name": "python",
   "nbconvert_exporter": "python",
   "pygments_lexer": "ipython3",
   "version": "3.10.12"
  }
 },
 "nbformat": 4,
 "nbformat_minor": 5
}
